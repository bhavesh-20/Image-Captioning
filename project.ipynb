{
 "cells": [
  {
   "cell_type": "code",
   "execution_count": 1,
   "metadata": {},
   "outputs": [],
   "source": [
    "from collections import defaultdict\n",
    "\n",
    "def get_captions():\n",
    "    cap_file = open(\"Flickr8k_text/Flickr8k.token.txt\", \"r\")\n",
    "    captions = defaultdict(list)\n",
    "    for line in cap_file.readlines():\n",
    "        img, caption = line.split(\"\\t\", maxsplit=1)\n",
    "        captions[img.split('.')[0]].append(caption.strip())\n",
    "    cap_file.close()\n",
    "    return dict(captions)"
   ]
  },
  {
   "cell_type": "code",
   "execution_count": 2,
   "metadata": {},
   "outputs": [
    {
     "data": {
      "text/plain": [
       "8092"
      ]
     },
     "execution_count": 2,
     "metadata": {},
     "output_type": "execute_result"
    }
   ],
   "source": [
    "captions = get_captions()\n",
    "len(captions.keys())"
   ]
  },
  {
   "cell_type": "code",
   "execution_count": 3,
   "metadata": {},
   "outputs": [],
   "source": [
    "import re\n",
    "for idx, caption_list in captions.items():\n",
    "    for i in range(5):\n",
    "        caption_list[i] = re.sub(r'[^\\w\\s]','',caption_list[i])\n",
    "        caption_list[i] = caption_list[i].split()\n",
    "        caption_list[i] = [word.lower() for word in caption_list[i]]\n",
    "        caption_list[i] = [word for word in caption_list[i] if word.isalpha() and len(word) > 1]\n",
    "        caption_list[i] =  ' '.join(caption_list[i])"
   ]
  },
  {
   "cell_type": "code",
   "execution_count": 4,
   "metadata": {},
   "outputs": [
    {
     "name": "stdout",
     "output_type": "stream",
     "text": [
      "Original vocabulary size: 8763\n"
     ]
    }
   ],
   "source": [
    "original_vocabulary = set()\n",
    "for idx, caption_list in captions.items():\n",
    "    for caption in caption_list:\n",
    "        original_vocabulary.update(caption.split())\n",
    "print(f\"Original vocabulary size: {len(original_vocabulary)}\")"
   ]
  },
  {
   "cell_type": "code",
   "execution_count": 5,
   "metadata": {},
   "outputs": [],
   "source": [
    "train_captions = {}\n",
    "with open(\"Flickr8k_text/Flickr_8k.trainImages.txt\", \"r\") as f:\n",
    "    for line in f.readlines():\n",
    "        train_captions[line.split('.')[0]] = captions[line.split('.')[0]]\n",
    "dev_captions = {}\n",
    "with open(\"Flickr8k_text/Flickr_8k.devImages.txt\", \"r\") as f:\n",
    "    for line in f.readlines():\n",
    "        dev_captions[line.split('.')[0]] = captions[line.split('.')[0]]\n",
    "test_captions = {}\n",
    "with open(\"Flickr8k_text/Flickr_8k.testImages.txt\", \"r\") as f:\n",
    "    for line in f.readlines():\n",
    "        test_captions[line.split('.')[0]] = captions[line.split('.')[0]]"
   ]
  },
  {
   "cell_type": "code",
   "execution_count": 6,
   "metadata": {},
   "outputs": [],
   "source": [
    "for img, caption_list in train_captions.items():\n",
    "    for i in range(5):\n",
    "        caption_list[i] = \"startseq \" + caption_list[i] + \" endseq\""
   ]
  },
  {
   "cell_type": "code",
   "execution_count": 7,
   "metadata": {},
   "outputs": [
    {
     "data": {
      "text/plain": [
       "1651"
      ]
     },
     "execution_count": 7,
     "metadata": {},
     "output_type": "execute_result"
    }
   ],
   "source": [
    "from collections import Counter\n",
    "vocab_count = Counter()\n",
    "for idx, caption_list in train_captions.items():\n",
    "    for caption in caption_list:\n",
    "        vocab_count.update(caption.split())\n",
    "word_threshold = 10\n",
    "vocab = [word for word in vocab_count if vocab_count[word] >= word_threshold]\n",
    "len(vocab)"
   ]
  },
  {
   "cell_type": "code",
   "execution_count": 3,
   "metadata": {},
   "outputs": [],
   "source": [
    "from keras.applications.inception_v3 import InceptionV3\n",
    "from keras.models import Model\n",
    "\n",
    "model = InceptionV3(weights='imagenet')\n",
    "model = Model(model.input, model.layers[-2].output)"
   ]
  },
  {
   "cell_type": "code",
   "execution_count": 4,
   "metadata": {},
   "outputs": [
    {
     "name": "stdout",
     "output_type": "stream",
     "text": [
      "Model: \"model\"\n",
      "__________________________________________________________________________________________________\n",
      " Layer (type)                   Output Shape         Param #     Connected to                     \n",
      "==================================================================================================\n",
      " input_2 (InputLayer)           [(None, 299, 299, 3  0           []                               \n",
      "                                )]                                                                \n",
      "                                                                                                  \n"
     ]
    }
   ],
   "source": [
    "model.summary()"
   ]
  }
 ],
 "metadata": {
  "interpreter": {
   "hash": "5a0d5d231da352457363f6774cfaffb2e7991d2c38a74ac8df193aa5ef7e9f44"
  },
  "kernelspec": {
   "display_name": "Python 3.9.9 ('venv': venv)",
   "language": "python",
   "name": "python3"
  },
  "language_info": {
   "codemirror_mode": {
    "name": "ipython",
    "version": 3
   },
   "file_extension": ".py",
   "mimetype": "text/x-python",
   "name": "python",
   "nbconvert_exporter": "python",
   "pygments_lexer": "ipython3",
   "version": "3.9.9"
  },
  "orig_nbformat": 4
 },
 "nbformat": 4,
 "nbformat_minor": 2
}
